{
 "cells": [
  {
   "cell_type": "code",
   "execution_count": null,
   "metadata": {},
   "outputs": [],
   "source": []
  },
  {
   "cell_type": "markdown",
   "metadata": {},
   "source": [
    "oop\n",
    "int,float,string..... object from int.... class\n",
    "and method eg toupper round()\n",
    "--init-- and self(or whate ever but must be passed to our function )\n",
    "init will always run always and it is the parent other can get info from it \n",
    "constructor == init guide method will give eg name and eg to the object so when we want to access that object no trouble already assigned when we call the class and create an object"
   ]
  },
  {
   "cell_type": "code",
   "execution_count": null,
   "metadata": {},
   "outputs": [
    {
     "ename": "",
     "evalue": "",
     "output_type": "error",
     "traceback": [
      "\u001b[1;31mRunning cells with 'c:\\Users\\MS\\AppData\\Local\\Programs\\Python\\Python311\\python.exe' requires the ipykernel package.\n",
      "\u001b[1;31mRun the following command to install 'ipykernel' into the Python environment. \n",
      "\u001b[1;31mCommand: 'c:/Users/MS/AppData/Local/Programs/Python/Python311/python.exe -m pip install ipykernel -U --user --force-reinstall'"
     ]
    }
   ],
   "source": [
    "class Person:\n",
    "    def __init__(self,name,age) :\n",
    "        self.name=name\n",
    "        self.age=age\n",
    "    def name_print(self***is must ):\n",
    "        return self.name\n",
    "p1=Person(\"abebe\",8)\n",
    "print(p1.name_print)"
   ]
  },
  {
   "cell_type": "markdown",
   "metadata": {},
   "source": [
    "self.name==public \n",
    "self._name==protected  _\n",
    "self,__age==private   __\n",
    "get and set\n",
    "abstract method the other inherite class should implement \n",
    "Interface Is a collection of abstract methods (methods without implementation) "
   ]
  }
 ],
 "metadata": {
  "kernelspec": {
   "display_name": "Python 3",
   "language": "python",
   "name": "python3"
  },
  "language_info": {
   "name": "python",
   "version": "3.11.2"
  }
 },
 "nbformat": 4,
 "nbformat_minor": 2
}
